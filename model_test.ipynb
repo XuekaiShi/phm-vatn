{
 "cells": [
  {
   "cell_type": "code",
   "execution_count": null,
   "metadata": {},
   "outputs": [],
   "source": [
    "import math\n",
    "\n",
    "import torch\n",
    "from torch import Tensor\n",
    "import torch.nn as nn\n",
    "import torch.optim as optim\n",
    "from torch.utils.data import Dataset, DataLoader\n",
    "import torch.nn.functional as F"
   ]
  },
  {
   "cell_type": "code",
   "execution_count": null,
   "metadata": {},
   "outputs": [],
   "source": [
    "device = torch.device(\"cuda\" if torch.cuda.is_available() else \"cpu\")"
   ]
  },
  {
   "cell_type": "code",
   "execution_count": null,
   "metadata": {},
   "outputs": [],
   "source": [
    "type_1 = torch.zeros(128, 1, 1000)  # 10个样本，每个样本 1×100\n",
    "# type_2 = torch.ones(10, 1, 12)\n",
    "# labels = F.one_hot(torch.tensor([0,0,0,0,0,0,0,0,0,0]))"
   ]
  },
  {
   "cell_type": "code",
   "execution_count": null,
   "metadata": {},
   "outputs": [],
   "source": [
    "class PositionalEncoding(nn.Module):\n",
    "\n",
    "    def __init__(self, d_model: int, dropout: float = 0.1, max_len: int = 5000):\n",
    "        super().__init__()\n",
    "        self.dropout = nn.Dropout(p=dropout)\n",
    "\n",
    "        position = torch.arange(max_len).unsqueeze(1)\n",
    "        div_term = torch.exp(torch.arange(0, d_model, 2)\n",
    "                             * (-math.log(10000.0) / d_model))\n",
    "        pe = torch.zeros(max_len, 1, d_model)\n",
    "        pe[:, 0, 0::2] = torch.sin(position * div_term)\n",
    "        pe[:, 0, 1::2] = torch.cos(position * div_term)\n",
    "        self.register_buffer('pe', pe)\n",
    "\n",
    "    def forward(self, x: Tensor) -> Tensor:\n",
    "        \"\"\"\n",
    "        Arguments:\n",
    "            x: Tensor, shape ``[seq_len, batch_size, embedding_dim]``\n",
    "        \"\"\"\n",
    "        x = x + self.pe[:x.size(0)]\n",
    "        return self.dropout(x)"
   ]
  },
  {
   "cell_type": "code",
   "execution_count": null,
   "metadata": {},
   "outputs": [],
   "source": [
    "class VATN(nn.Module):\n",
    "    def __init__(self, ):\n",
    "        super(VATN, self).__init__()\n",
    "        self.conv = nn.Conv1d(in_channels=1, out_channels=256, kernel_size=50, stride=25)\n",
    "        self.pos_encoder = PositionalEncoding(256)\n",
    "        self.encoder = nn.TransformerEncoder(\n",
    "            nn.TransformerEncoderLayer(d_model=256, nhead=8, dim_feedforward=1024, batch_first=True),\n",
    "            num_layers=8)\n",
    "        self.max_pool = nn.AdaptiveMaxPool1d(4)\n",
    "        self.avg_pool = nn.AdaptiveAvgPool1d(4)\n",
    "        self.flatten = nn.Flatten()\n",
    "        self.fc_1 = nn.Linear(312, 64)\n",
    "        self.fc_2 = nn.Linear(64, 4)\n",
    "        self.softmax = nn.Softmax(dim=1)\n",
    "    def forward(self, x):\n",
    "        x = self.conv(x)\n",
    "        x = x.transpose(1, 2)\n",
    "        x = self.pos_encoder(x)\n",
    "        x = self.encoder(x)\n",
    "        x_1 = self.max_pool(x)\n",
    "        x_2 = self.avg_pool(x) \n",
    "        x = torch.cat((x_1, x_2), dim=2)\n",
    "        x = self.flatten(x)\n",
    "        x = self.fc_1(x)\n",
    "        x = F.relu(x)\n",
    "        x = self.fc_2(x)\n",
    "        x = self.softmax(x)\n",
    "        return x"
   ]
  },
  {
   "cell_type": "code",
   "execution_count": null,
   "metadata": {},
   "outputs": [],
   "source": [
    "model = VATN()\n",
    "out = model(type_1)\n",
    "out.shape"
   ]
  },
  {
   "cell_type": "code",
   "execution_count": null,
   "metadata": {},
   "outputs": [],
   "source": [
    "from utils.model import VATN"
   ]
  },
  {
   "cell_type": "code",
   "execution_count": null,
   "metadata": {},
   "outputs": [],
   "source": [
    "model = VATN()\n",
    "out = model(type_1)\n",
    "out.shape"
   ]
  },
  {
   "cell_type": "code",
   "execution_count": null,
   "metadata": {},
   "outputs": [],
   "source": [
    "from utils.preprocess import preprocess_data, JNUDataset"
   ]
  },
  {
   "cell_type": "code",
   "execution_count": null,
   "metadata": {},
   "outputs": [],
   "source": [
    "BATCH_SIZE = 128\n",
    "DATA_PATH = 'data'"
   ]
  },
  {
   "cell_type": "code",
   "execution_count": 51,
   "metadata": {},
   "outputs": [],
   "source": [
    "train_loader = DataLoader(JNUDataset(DATA_PATH, is_train=True, device=device), batch_size=BATCH_SIZE, shuffle=True)"
   ]
  },
  {
   "cell_type": "code",
   "execution_count": null,
   "metadata": {},
   "outputs": [],
   "source": [
    "model = VATN()\n",
    "model.to(device)"
   ]
  },
  {
   "cell_type": "code",
   "execution_count": null,
   "metadata": {},
   "outputs": [],
   "source": [
    "import matplotlib.pyplot as plt\n",
    "%matplotlib inline"
   ]
  },
  {
   "cell_type": "code",
   "execution_count": 55,
   "metadata": {},
   "outputs": [],
   "source": [
    "def train(model, num_epochs=1):\n",
    "    model.train()\n",
    "    optimizer = optim.Adam(model.parameters(), lr=0.0001)\n",
    "    criterion = nn.CrossEntropyLoss()\n",
    "    loss_history = []\n",
    "    acc_history = []\n",
    "    for epoch in range(num_epochs):\n",
    "        for batch_idx, (data, target) in enumerate(train_loader):\n",
    "            # data = data.to(device)\n",
    "            # target = target.to(device)\n",
    "            \n",
    "            optimizer.zero_grad()\n",
    "            output = model(data)\n",
    "            loss = criterion(output, target.to(torch.float32))\n",
    "            loss.backward()\n",
    "            optimizer.step()\n",
    "            accuracy = (output.argmax(dim=1) == target.argmax(dim=1)).float().mean().to('cpu').numpy()\n",
    "            # print(accuracy)\n",
    "            # if batch_idx % 8 == 0:\n",
    "            #     # print(output)\n",
    "            #     # print(target.shape)\n",
    "            #     print(f'Train Epoch: {epoch} [{batch_idx * len(data)}/{len(train_loader.dataset)} '\n",
    "            #             f'({100. * batch_idx / len(train_loader):.0f}%)]\\tLoss: {loss.item():.6f}')\n",
    "        if epoch == num_epochs-1:\n",
    "            print(output)\n",
    "            print(target)\n",
    "                \n",
    "        loss_history.append(loss.item())\n",
    "        acc_history.append(accuracy)\n",
    "    print('Finished Training')\n",
    "    plt.plot(loss_history)\n",
    "    plt.plot(acc_history)\n",
    "    # return loss_history"
   ]
  },
  {
   "cell_type": "code",
   "execution_count": 46,
   "metadata": {},
   "outputs": [],
   "source": [
    "a = torch.tensor([[1,2,3],[4,5,6]])\n",
    "b = a.numpy()"
   ]
  },
  {
   "cell_type": "code",
   "execution_count": 56,
   "metadata": {},
   "outputs": [
    {
     "name": "stdout",
     "output_type": "stream",
     "text": [
      "tensor([[2.8952e-08, 2.8766e-10, 5.7917e-14, 1.0000e+00],\n",
      "        [4.4807e-23, 3.2638e-14, 1.0000e+00, 4.5213e-14],\n",
      "        [2.4101e-09, 1.0000e+00, 1.4992e-13, 2.0829e-13],\n",
      "        [1.0000e+00, 1.5487e-06, 4.2845e-24, 3.7172e-08],\n",
      "        [1.0395e-07, 3.3138e-10, 1.3801e-14, 1.0000e+00],\n",
      "        [1.3277e-09, 1.0000e+00, 6.8625e-10, 4.7794e-11],\n",
      "        [1.0437e-27, 7.1053e-17, 1.0000e+00, 5.3165e-18],\n",
      "        [1.0000e+00, 1.7779e-06, 1.0646e-23, 5.6665e-08],\n",
      "        [9.4636e-12, 1.0000e+00, 3.6960e-13, 1.0364e-15],\n",
      "        [1.3305e-08, 1.7286e-12, 3.0460e-16, 1.0000e+00],\n",
      "        [1.0000e+00, 1.8157e-06, 4.6253e-24, 2.8665e-08],\n",
      "        [1.3328e-24, 4.1400e-15, 1.0000e+00, 3.8496e-15],\n",
      "        [3.1299e-07, 1.9557e-09, 6.5513e-14, 1.0000e+00],\n",
      "        [8.0011e-28, 2.7875e-17, 1.0000e+00, 6.0830e-18],\n",
      "        [1.2577e-05, 9.9999e-01, 1.5391e-14, 5.9544e-11],\n",
      "        [5.4773e-09, 3.0413e-12, 2.2364e-15, 1.0000e+00],\n",
      "        [1.1232e-26, 1.7153e-16, 1.0000e+00, 6.7396e-17],\n",
      "        [1.0000e+00, 2.2518e-06, 7.5171e-24, 4.5725e-08],\n",
      "        [3.8173e-12, 1.0000e+00, 1.6796e-12, 9.7392e-16],\n",
      "        [5.5013e-09, 1.7948e-12, 1.2553e-15, 1.0000e+00],\n",
      "        [2.1152e-26, 2.5876e-16, 1.0000e+00, 1.0852e-16],\n",
      "        [1.0000e+00, 1.5331e-06, 5.4317e-24, 4.5961e-08],\n",
      "        [1.5867e-23, 7.9034e-15, 1.0000e+00, 1.3724e-13],\n",
      "        [1.0000e+00, 1.6323e-06, 4.9706e-24, 3.4112e-08],\n",
      "        [1.1912e-08, 2.4390e-12, 7.3056e-16, 1.0000e+00],\n",
      "        [3.8596e-12, 1.0000e+00, 3.8053e-12, 1.1305e-15],\n",
      "        [6.1187e-09, 2.7608e-12, 3.3797e-15, 1.0000e+00],\n",
      "        [1.5496e-11, 1.0000e+00, 6.9272e-13, 2.7141e-15],\n",
      "        [1.8385e-27, 2.4539e-17, 1.0000e+00, 2.4371e-17],\n",
      "        [4.9457e-12, 1.0000e+00, 1.3371e-12, 6.4384e-16],\n",
      "        [2.9015e-12, 1.0000e+00, 1.8161e-12, 8.2849e-16],\n",
      "        [9.2146e-20, 2.4998e-12, 1.0000e+00, 1.2619e-10],\n",
      "        [3.5939e-23, 2.6214e-14, 1.0000e+00, 8.9742e-14],\n",
      "        [1.0000e+00, 2.6529e-06, 9.8513e-24, 5.1420e-08],\n",
      "        [2.1893e-10, 1.0000e+00, 6.3881e-13, 2.0734e-14],\n",
      "        [1.0000e+00, 1.3898e-06, 3.2503e-24, 2.7788e-08],\n",
      "        [1.1961e-22, 1.2022e-12, 1.0000e+00, 1.1683e-13],\n",
      "        [4.0110e-11, 1.0000e+00, 5.0555e-13, 7.2612e-15],\n",
      "        [5.8714e-22, 1.4336e-13, 1.0000e+00, 7.7165e-13],\n",
      "        [3.3261e-08, 5.9238e-11, 6.2315e-15, 1.0000e+00],\n",
      "        [4.6706e-28, 2.8097e-17, 1.0000e+00, 2.9315e-18],\n",
      "        [1.1715e-20, 4.1315e-11, 1.0000e+00, 2.4170e-13],\n",
      "        [8.1744e-26, 3.3348e-15, 1.0000e+00, 6.4897e-17],\n",
      "        [1.0000e+00, 2.4701e-06, 7.9655e-24, 4.7997e-08],\n",
      "        [7.1539e-09, 1.8779e-12, 9.8310e-16, 1.0000e+00],\n",
      "        [1.0000e+00, 1.5746e-06, 3.3374e-24, 2.1765e-08],\n",
      "        [2.9649e-11, 1.0000e+00, 4.1372e-12, 2.4855e-14],\n",
      "        [2.0993e-13, 1.0000e+00, 3.3625e-10, 1.3341e-15],\n",
      "        [4.8979e-28, 4.7970e-17, 1.0000e+00, 2.9457e-18],\n",
      "        [7.6314e-07, 1.0000e+00, 1.1028e-13, 2.0508e-11],\n",
      "        [1.5448e-26, 4.8228e-15, 1.0000e+00, 1.2653e-17],\n",
      "        [1.0206e-11, 1.0000e+00, 9.2613e-13, 1.9996e-15],\n",
      "        [1.1599e-10, 1.0000e+00, 2.8313e-13, 9.4632e-15],\n",
      "        [1.0000e+00, 3.4849e-06, 1.3556e-23, 5.2244e-08],\n",
      "        [8.2225e-09, 2.1026e-12, 1.2589e-15, 1.0000e+00],\n",
      "        [6.1966e-11, 1.0000e+00, 3.7847e-13, 8.8814e-15],\n",
      "        [1.5794e-27, 2.0780e-17, 1.0000e+00, 2.5118e-17],\n",
      "        [6.3213e-11, 1.0000e+00, 1.9635e-13, 4.6662e-15],\n",
      "        [1.0000e+00, 3.7210e-06, 1.3314e-23, 6.0384e-08],\n",
      "        [2.9678e-08, 2.9706e-12, 1.8570e-16, 1.0000e+00],\n",
      "        [9.9999e-01, 8.5007e-06, 1.9609e-23, 1.3149e-08],\n",
      "        [1.6652e-08, 1.8369e-12, 3.3377e-16, 1.0000e+00],\n",
      "        [6.6411e-28, 2.4652e-17, 1.0000e+00, 6.3093e-18],\n",
      "        [2.1056e-25, 1.6530e-15, 1.0000e+00, 6.7237e-16],\n",
      "        [2.3353e-12, 1.0000e+00, 2.3511e-10, 2.1500e-14],\n",
      "        [3.4752e-25, 6.1786e-16, 1.0000e+00, 1.6953e-15],\n",
      "        [4.4211e-07, 8.7376e-07, 2.3216e-08, 1.0000e+00],\n",
      "        [1.0000e+00, 2.3303e-06, 4.8600e-24, 2.2205e-08],\n",
      "        [6.5826e-09, 1.0000e+00, 1.6205e-11, 1.4967e-10],\n",
      "        [5.6886e-22, 4.1942e-11, 1.0000e+00, 3.1384e-14],\n",
      "        [1.1121e-08, 3.0578e-12, 1.8544e-15, 1.0000e+00],\n",
      "        [1.4812e-08, 2.3021e-12, 4.0188e-16, 1.0000e+00],\n",
      "        [1.6944e-07, 2.3855e-09, 2.5042e-13, 1.0000e+00],\n",
      "        [1.3541e-08, 2.0027e-12, 2.0480e-16, 1.0000e+00],\n",
      "        [1.0680e-27, 1.0196e-15, 1.0000e+00, 1.4902e-18],\n",
      "        [9.1854e-09, 7.8261e-11, 4.6620e-14, 1.0000e+00],\n",
      "        [1.0000e+00, 2.7889e-06, 9.4882e-24, 5.1146e-08],\n",
      "        [4.0515e-25, 1.1712e-14, 1.0000e+00, 3.9064e-16],\n",
      "        [1.0000e+00, 1.6002e-06, 3.5140e-24, 2.1831e-08],\n",
      "        [1.0000e+00, 1.6837e-06, 3.8422e-24, 2.1748e-08],\n",
      "        [6.4762e-12, 1.0000e+00, 1.3862e-12, 1.5178e-15],\n",
      "        [1.1949e-23, 6.0249e-13, 1.0000e+00, 6.4942e-16],\n",
      "        [2.8201e-27, 1.0956e-16, 1.0000e+00, 1.8995e-17],\n",
      "        [1.0000e+00, 1.8069e-06, 4.5205e-24, 3.9177e-08],\n",
      "        [2.9866e-26, 2.1787e-16, 1.0000e+00, 1.1850e-16],\n",
      "        [2.2483e-08, 1.3177e-12, 1.1364e-16, 1.0000e+00],\n",
      "        [1.0000e+00, 2.2616e-06, 7.4870e-24, 4.0122e-08],\n",
      "        [3.8916e-11, 1.0000e+00, 1.1077e-07, 1.1563e-12],\n",
      "        [8.3801e-26, 6.8964e-16, 1.0000e+00, 3.6797e-16],\n",
      "        [1.3648e-24, 1.8564e-14, 1.0000e+00, 1.9178e-15],\n",
      "        [1.0000e+00, 1.4041e-06, 4.7205e-24, 3.4307e-08],\n",
      "        [3.4886e-06, 2.6774e-06, 1.6734e-10, 9.9999e-01],\n",
      "        [1.0435e-27, 2.5255e-17, 1.0000e+00, 1.4520e-17],\n",
      "        [4.1441e-28, 1.6117e-17, 1.0000e+00, 3.7264e-18],\n",
      "        [9.4018e-06, 1.7659e-04, 1.7989e-10, 9.9981e-01],\n",
      "        [1.8131e-27, 1.4845e-16, 1.0000e+00, 4.0695e-18],\n",
      "        [3.8592e-28, 6.6351e-17, 1.0000e+00, 1.7263e-18],\n",
      "        [9.9531e-12, 1.0000e+00, 1.5100e-12, 3.3462e-15],\n",
      "        [1.0000e+00, 1.5062e-06, 4.2161e-24, 3.5825e-08],\n",
      "        [2.0521e-08, 2.9278e-12, 6.8312e-16, 1.0000e+00],\n",
      "        [1.6380e-08, 5.7776e-11, 5.2075e-15, 1.0000e+00],\n",
      "        [2.0664e-26, 1.3035e-15, 1.0000e+00, 4.1665e-17],\n",
      "        [1.5719e-12, 1.0000e+00, 3.2946e-12, 5.3772e-16],\n",
      "        [3.5186e-26, 8.8897e-16, 1.0000e+00, 9.7180e-17],\n",
      "        [8.7205e-12, 1.0000e+00, 5.3095e-13, 1.2879e-15],\n",
      "        [5.6961e-11, 1.0000e+00, 3.3014e-13, 5.1426e-15],\n",
      "        [1.9069e-24, 1.8442e-15, 1.0000e+00, 8.2772e-15],\n",
      "        [3.5393e-09, 1.0499e-11, 1.5926e-14, 1.0000e+00],\n",
      "        [1.0000e+00, 1.6363e-06, 5.0342e-24, 4.1906e-08],\n",
      "        [2.4687e-23, 2.9187e-13, 1.0000e+00, 3.0740e-15],\n",
      "        [2.0140e-26, 2.7719e-15, 1.0000e+00, 2.2588e-17],\n",
      "        [1.0000e+00, 1.4668e-06, 3.6842e-24, 2.7830e-08],\n",
      "        [9.8791e-09, 1.6202e-12, 8.9902e-16, 1.0000e+00],\n",
      "        [9.9999e-01, 9.7130e-06, 7.5381e-23, 6.0201e-08],\n",
      "        [1.0000e+00, 2.2098e-06, 5.1459e-24, 2.3036e-08],\n",
      "        [1.0000e+00, 2.0580e-06, 7.4375e-24, 3.1723e-08],\n",
      "        [1.2146e-09, 2.7065e-01, 7.2934e-01, 3.0878e-06],\n",
      "        [1.0000e+00, 3.1433e-06, 1.5282e-23, 7.3576e-08],\n",
      "        [1.0000e+00, 1.3020e-06, 2.7972e-24, 3.0647e-08],\n",
      "        [1.0000e+00, 1.9766e-06, 5.0377e-24, 3.0967e-08],\n",
      "        [1.3918e-26, 1.5199e-15, 1.0000e+00, 1.4306e-17],\n",
      "        [1.0000e+00, 3.3439e-06, 6.1794e-24, 1.5448e-08],\n",
      "        [1.9620e-07, 1.6015e-10, 3.2119e-15, 1.0000e+00],\n",
      "        [1.1643e-08, 1.7858e-12, 6.0931e-16, 1.0000e+00],\n",
      "        [1.0000e+00, 1.9487e-06, 6.3489e-24, 5.0947e-08],\n",
      "        [1.0000e+00, 1.8037e-06, 3.1414e-24, 1.9501e-08],\n",
      "        [7.4107e-23, 4.7123e-12, 1.0000e+00, 3.2602e-15],\n",
      "        [1.6751e-10, 1.0000e+00, 1.6031e-10, 2.0220e-13]], device='cuda:0',\n",
      "       grad_fn=<SoftmaxBackward0>)\n",
      "tensor([[0, 0, 0, 1],\n",
      "        [0, 0, 1, 0],\n",
      "        [0, 1, 0, 0],\n",
      "        [1, 0, 0, 0],\n",
      "        [0, 0, 0, 1],\n",
      "        [0, 0, 0, 1],\n",
      "        [0, 0, 1, 0],\n",
      "        [1, 0, 0, 0],\n",
      "        [0, 1, 0, 0],\n",
      "        [0, 0, 0, 1],\n",
      "        [1, 0, 0, 0],\n",
      "        [0, 0, 1, 0],\n",
      "        [0, 0, 0, 1],\n",
      "        [0, 0, 1, 0],\n",
      "        [1, 0, 0, 0],\n",
      "        [0, 0, 0, 1],\n",
      "        [0, 0, 1, 0],\n",
      "        [1, 0, 0, 0],\n",
      "        [0, 1, 0, 0],\n",
      "        [0, 0, 0, 1],\n",
      "        [0, 0, 1, 0],\n",
      "        [1, 0, 0, 0],\n",
      "        [0, 0, 1, 0],\n",
      "        [1, 0, 0, 0],\n",
      "        [0, 0, 0, 1],\n",
      "        [0, 1, 0, 0],\n",
      "        [0, 0, 0, 1],\n",
      "        [0, 1, 0, 0],\n",
      "        [0, 0, 1, 0],\n",
      "        [0, 1, 0, 0],\n",
      "        [0, 1, 0, 0],\n",
      "        [0, 0, 1, 0],\n",
      "        [0, 0, 1, 0],\n",
      "        [1, 0, 0, 0],\n",
      "        [0, 1, 0, 0],\n",
      "        [1, 0, 0, 0],\n",
      "        [0, 0, 1, 0],\n",
      "        [0, 1, 0, 0],\n",
      "        [0, 0, 1, 0],\n",
      "        [0, 0, 0, 1],\n",
      "        [0, 0, 1, 0],\n",
      "        [0, 0, 1, 0],\n",
      "        [0, 0, 1, 0],\n",
      "        [1, 0, 0, 0],\n",
      "        [0, 0, 0, 1],\n",
      "        [1, 0, 0, 0],\n",
      "        [0, 1, 0, 0],\n",
      "        [0, 1, 0, 0],\n",
      "        [0, 0, 1, 0],\n",
      "        [0, 1, 0, 0],\n",
      "        [0, 0, 1, 0],\n",
      "        [0, 1, 0, 0],\n",
      "        [0, 1, 0, 0],\n",
      "        [1, 0, 0, 0],\n",
      "        [0, 0, 0, 1],\n",
      "        [0, 1, 0, 0],\n",
      "        [0, 0, 1, 0],\n",
      "        [0, 1, 0, 0],\n",
      "        [1, 0, 0, 0],\n",
      "        [0, 0, 0, 1],\n",
      "        [1, 0, 0, 0],\n",
      "        [0, 0, 0, 1],\n",
      "        [0, 0, 1, 0],\n",
      "        [0, 0, 1, 0],\n",
      "        [0, 1, 0, 0],\n",
      "        [0, 0, 1, 0],\n",
      "        [0, 0, 0, 1],\n",
      "        [1, 0, 0, 0],\n",
      "        [0, 0, 0, 1],\n",
      "        [0, 0, 1, 0],\n",
      "        [0, 0, 0, 1],\n",
      "        [0, 0, 0, 1],\n",
      "        [0, 0, 0, 1],\n",
      "        [0, 0, 0, 1],\n",
      "        [0, 0, 1, 0],\n",
      "        [0, 0, 0, 1],\n",
      "        [1, 0, 0, 0],\n",
      "        [0, 0, 1, 0],\n",
      "        [1, 0, 0, 0],\n",
      "        [1, 0, 0, 0],\n",
      "        [0, 1, 0, 0],\n",
      "        [0, 0, 1, 0],\n",
      "        [0, 0, 1, 0],\n",
      "        [1, 0, 0, 0],\n",
      "        [0, 0, 1, 0],\n",
      "        [0, 0, 0, 1],\n",
      "        [1, 0, 0, 0],\n",
      "        [0, 1, 0, 0],\n",
      "        [0, 0, 1, 0],\n",
      "        [0, 0, 1, 0],\n",
      "        [1, 0, 0, 0],\n",
      "        [0, 0, 0, 1],\n",
      "        [0, 0, 1, 0],\n",
      "        [0, 0, 1, 0],\n",
      "        [0, 0, 0, 1],\n",
      "        [0, 0, 1, 0],\n",
      "        [0, 0, 1, 0],\n",
      "        [0, 1, 0, 0],\n",
      "        [1, 0, 0, 0],\n",
      "        [0, 0, 0, 1],\n",
      "        [0, 0, 0, 1],\n",
      "        [0, 0, 1, 0],\n",
      "        [0, 1, 0, 0],\n",
      "        [0, 0, 1, 0],\n",
      "        [0, 1, 0, 0],\n",
      "        [0, 1, 0, 0],\n",
      "        [0, 0, 1, 0],\n",
      "        [0, 0, 0, 1],\n",
      "        [1, 0, 0, 0],\n",
      "        [0, 0, 1, 0],\n",
      "        [0, 0, 1, 0],\n",
      "        [1, 0, 0, 0],\n",
      "        [0, 0, 0, 1],\n",
      "        [1, 0, 0, 0],\n",
      "        [1, 0, 0, 0],\n",
      "        [1, 0, 0, 0],\n",
      "        [0, 0, 1, 0],\n",
      "        [1, 0, 0, 0],\n",
      "        [1, 0, 0, 0],\n",
      "        [1, 0, 0, 0],\n",
      "        [0, 0, 1, 0],\n",
      "        [1, 0, 0, 0],\n",
      "        [0, 0, 0, 1],\n",
      "        [0, 0, 0, 1],\n",
      "        [1, 0, 0, 0],\n",
      "        [1, 0, 0, 0],\n",
      "        [0, 0, 1, 0],\n",
      "        [0, 1, 0, 0]], device='cuda:0')\n",
      "Finished Training\n"
     ]
    },
    {
     "data": {
      "image/png": "[encoded data removed]",
      "text/plain": [
       "<Figure size 640x480 with 1 Axes>"
      ]
     },
     "metadata": {},
     "output_type": "display_data"
    }
   ],
   "source": [
    "train(model, 1500)"
   ]
  },
  {
   "cell_type": "code",
   "execution_count": 57,
   "metadata": {},
   "outputs": [],
   "source": [
    "torch.save(model.state_dict(), 'vatn_1500.pth')"
   ]
  },
  {
   "cell_type": "code",
   "execution_count": 58,
   "metadata": {},
   "outputs": [],
   "source": [
    "test_loader = DataLoader(JNUDataset(DATA_PATH, is_train=False, device=device), batch_size=BATCH_SIZE, shuffle=False)"
   ]
  },
  {
   "cell_type": "code",
   "execution_count": 91,
   "metadata": {},
   "outputs": [],
   "source": [
    "def test(model, test_loader):\n",
    "    correct = 0\n",
    "    all_pred_labels = torch.tensor([])\n",
    "    all_true_labels = torch.tensor([])\n",
    "    with torch.no_grad():\n",
    "        for data, target in test_loader:\n",
    "            # data = data.to(device)\n",
    "            # target = target.to(device)\n",
    "            output = model(data)\n",
    "            pred_labels = output.argmax(dim=1, keepdim=True)\n",
    "            true_labels = target.argmax(dim=1, keepdim=True)\n",
    "            all_pred_labels = torch.cat((all_pred_labels, pred_labels.to('cpu')), dim=0)\n",
    "            all_true_labels = torch.cat((all_true_labels, true_labels.to('cpu')), dim=0)\n",
    "            correct += pred_labels.eq(true_labels).sum().item()\n",
    "            # print(pred)\n",
    "            # print(target.argmax(dim=1, keepdim=True))\n",
    "            # print('---')\n",
    "            # accuracy = (output.argmax(dim=1) == target.argmax(dim=1)).float().mean().to('cpu').numpy()\n",
    "            # pred = output.argmax(dim=1, keepdim=True)  # get the index of the max log-probability\n",
    "            # correct += pred.eq(target.to(torch.float32).view_as(pred)).sum().item()\n",
    "            \n",
    "    # test_loss /= len(test_loader.dataset)\n",
    "    # print('\\nTest set: Average loss: {:.4f}, Accuracy: {}/{} ({:.0f}%)\\n'.format(\n",
    "    #     test_loss, correct, len(test_loader.dataset),\n",
    "    #     100. * correct / len(test_loader.dataset)\n",
    "    # ))\n",
    "    # return test_loss, 100. * correct / len(test_loader.dataset)\n",
    "    return correct / len(test_loader.dataset), all_pred_labels.numpy(), all_true_labels.numpy()\n",
    "\n"
   ]
  },
  {
   "cell_type": "code",
   "execution_count": 71,
   "metadata": {},
   "outputs": [
    {
     "data": {
      "text/plain": [
       "2"
      ]
     },
     "execution_count": 71,
     "metadata": {},
     "output_type": "execute_result"
    }
   ],
   "source": [
    "a = torch.tensor([[1],[1], [1]])\n",
    "b = torch.tensor([[1],[1], [0]])\n",
    "b.eq(a).sum().item()"
   ]
  },
  {
   "cell_type": "code",
   "execution_count": null,
   "metadata": {},
   "outputs": [],
   "source": [
    "accuracy, preds, trues = test(model, test_loader)\n",
    "preds.tolist()"
   ]
  },
  {
   "cell_type": "code",
   "execution_count": 108,
   "metadata": {},
   "outputs": [
    {
     "data": {
      "text/plain": [
       "0.9220833333333334"
      ]
     },
     "execution_count": 108,
     "metadata": {},
     "output_type": "execute_result"
    }
   ],
   "source": [
    "accuracy"
   ]
  },
  {
   "cell_type": "code",
   "execution_count": 80,
   "metadata": {},
   "outputs": [],
   "source": [
    "from sklearn.metrics import confusion_matrix\n",
    "import matplotlib.pyplot as plt\n",
    "import numpy as np\n",
    "import itertools"
   ]
  },
  {
   "cell_type": "code",
   "execution_count": 87,
   "metadata": {},
   "outputs": [],
   "source": [
    "classes = [0, 1, 2, 3]"
   ]
  },
  {
   "cell_type": "code",
   "execution_count": 106,
   "metadata": {},
   "outputs": [],
   "source": [
    "def draw_confusion_matrix(y_true, y_pred):\n",
    "    cm = confusion_matrix(y_true, y_pred)\n",
    "    print(cm)\n",
    "    cmap=plt.cm.Blues\n",
    "    plt.figure(figsize=(8, 8))\n",
    "    \n",
    "    plt.imshow(cm, interpolation='nearest', cmap=cmap)\n",
    "    tick_marks = np.arange(len(classes))\n",
    "    \n",
    "    plt.title('Confusion Matrix', fontsize=15)\n",
    "    plt.xlabel('Predicted Category', fontsize=12)\n",
    "    plt.ylabel('Target Category', fontsize=12)\n",
    "    plt.tick_params(labelsize=12) \n",
    "    plt.xticks(tick_marks, classes, rotation=90) \n",
    "    plt.yticks(tick_marks, classes)\n",
    "    \n",
    "    threshold = cm.max() / 2.\n",
    "    for i, j in itertools.product(range(cm.shape[0]), range(cm.shape[1])):\n",
    "        plt.text(j, i, cm[i, j],\n",
    "                 horizontalalignment=\"center\",\n",
    "                 color=\"white\" if cm[i, j] > threshold else \"black\",\n",
    "                 fontsize=12)\n",
    "\n",
    "    plt.tight_layout()\n",
    "\n",
    "    plt.savefig('confusion_matrix.png')\n",
    "    plt.show()"
   ]
  },
  {
   "cell_type": "code",
   "execution_count": 107,
   "metadata": {},
   "outputs": [
    {
     "name": "stdout",
     "output_type": "stream",
     "text": [
      "[[576  19   0   5]\n",
      " [ 26 549   6  19]\n",
      " [  3  11 573  13]\n",
      " [  6  67  12 515]]\n"
     ]
    },
    {
     "data": {
      "image/png": "[encoded data removed]",
      "text/plain": [
       "<Figure size 800x800 with 1 Axes>"
      ]
     },
     "metadata": {},
     "output_type": "display_data"
    }
   ],
   "source": [
    "draw_confusion_matrix(trues.tolist(), preds.tolist())"
   ]
  },
  {
   "cell_type": "code",
   "execution_count": null,
   "metadata": {},
   "outputs": [],
   "source": [
    "def train(model, num_epochs=1):\n",
    "    model.train()\n",
    "    optimizer = optim.Adam(model.parameters(), lr=0.0001)\n",
    "    criterion = nn.CrossEntropyLoss()\n",
    "    loss_history = []\n",
    "    acc_history = []\n",
    "    for epoch in range(num_epochs):\n",
    "        for batch_idx, (data, target) in enumerate(train_loader):\n",
    "            # data = data.to(device)\n",
    "            # target = target.to(device)\n",
    "            \n",
    "            optimizer.zero_grad()\n",
    "            output = model(data)\n",
    "            loss = criterion(output, target.to(torch.float32))\n",
    "            loss.backward()\n",
    "            optimizer.step()\n",
    "            accuracy = (output.argmax(dim=1) == target.argmax(dim=1)).float().mean().to('cpu').numpy()\n",
    "            # print(accuracy)\n",
    "            # if batch_idx % 8 == 0:\n",
    "            #     # print(output)\n",
    "            #     # print(target.shape)\n",
    "            #     print(f'Train Epoch: {epoch} [{batch_idx * len(data)}/{len(train_loader.dataset)} '\n",
    "            #             f'({100. * batch_idx / len(train_loader):.0f}%)]\\tLoss: {loss.item():.6f}')\n",
    "        if epoch == num_epochs-1:\n",
    "            print(output)\n",
    "            print(target)\n",
    "                \n",
    "        loss_history.append(loss.item())\n",
    "        acc_history.append(accuracy)\n",
    "    print('Finished Training')\n",
    "    plt.plot(loss_history)\n",
    "    plt.plot(acc_history)"
   ]
  }
 ],
 "metadata": {
  "kernelspec": {
   "display_name": "Python 3",
   "language": "python",
   "name": "python3"
  },
  "language_info": {
   "codemirror_mode": {
    "name": "ipython",
    "version": 3
   },
   "file_extension": ".py",
   "mimetype": "text/x-python",
   "name": "python",
   "nbconvert_exporter": "python",
   "pygments_lexer": "ipython3",
   "version": "3.10.9"
  }
 },
 "nbformat": 4,
 "nbformat_minor": 2
}
